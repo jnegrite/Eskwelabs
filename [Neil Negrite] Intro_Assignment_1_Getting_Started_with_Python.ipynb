{
 "cells": [
  {
   "cell_type": "markdown",
   "metadata": {
    "colab_type": "text",
    "id": "51dZwqDNc9x6"
   },
   "source": [
    "# Data Science - Getting Started with Python\n",
    "\n",
    "Following are exercises you should complete. Workflow:\n",
    "\n",
    "1. Complete the exercises! This means fill out the code cells, and run them (shift-enter or click the play button that appears when you're in one of them)\n",
    "2. Take a look at your work, and write comments/add text cells as appropriate to explain\n",
    "3. Upload the notebook to your GitHub repository and submit a link [here](https://docs.google.com/forms/d/e/1FAIpQLScdlw-GN3tHPHxROIulxoPmxXmvK-UmXco3lgjiJ0Ckltn6QA/viewform?usp=sf_link)"
   ]
  },
  {
   "cell_type": "markdown",
   "metadata": {
    "colab_type": "text",
    "id": "I6biutgwdgpb"
   },
   "source": [
    "## Exercise 1 - A bit of Math\n",
    "\n",
    "For these \"word\" problems, use Python to clearly solve them. Your code will \"show your work\" - use good variable names! To show your answers you should write a `print()` statement at the end.\n",
    "\n",
    "### a) It's a gas\n",
    "\n",
    "A taxi driver is calculating their profit over two weeks by adding up the fares they charge and subtracting the cost of gas. The price of gas changes over time - it was `$3.52`/gallon the first week and `$3.57`/gallon this second week. Their car gets 20 miles per gallon.\n",
    "\n",
    "For the first week the driver had a total of 23 passengers with average `$29` fare each, and drove a total of 160 miles. For the second week they had 17 passengers with average `$30` fare each, and drove a total of 220 miles. Assume that for both weeks they purchase all the gas needed during that week (i.e. they refuel every week to maintain a constant level of gas in the tank).\n",
    "\n",
    "Based on the above, answer the following questions:\n",
    "\n",
    "- What is their total profit over both weeks?\n",
    "- During which week was their average (mean) profit per passenger higher?\n"
   ]
  },
  {
   "cell_type": "code",
   "execution_count": 96,
   "metadata": {
    "colab": {},
    "colab_type": "code",
    "id": "CWJeYQW6AoGf"
   },
   "outputs": [
    {
     "name": "stdout",
     "output_type": "stream",
     "text": [
      "1) Total income: 1109.57\n",
      "2) Week 1 has a higher average income at $27.7757 per passenger\n"
     ]
    },
    {
     "data": {
      "text/html": [
       "<div>\n",
       "<style scoped>\n",
       "    .dataframe tbody tr th:only-of-type {\n",
       "        vertical-align: middle;\n",
       "    }\n",
       "\n",
       "    .dataframe tbody tr th {\n",
       "        vertical-align: top;\n",
       "    }\n",
       "\n",
       "    .dataframe thead th {\n",
       "        text-align: right;\n",
       "    }\n",
       "</style>\n",
       "<table border=\"1\" class=\"dataframe\">\n",
       "  <thead>\n",
       "    <tr style=\"text-align: right;\">\n",
       "      <th></th>\n",
       "      <th>gas_px</th>\n",
       "      <th>passengers</th>\n",
       "      <th>fare</th>\n",
       "      <th>distance</th>\n",
       "      <th>revenue</th>\n",
       "      <th>gas_cost</th>\n",
       "      <th>income</th>\n",
       "      <th>ave_income</th>\n",
       "    </tr>\n",
       "    <tr>\n",
       "      <th>week</th>\n",
       "      <th></th>\n",
       "      <th></th>\n",
       "      <th></th>\n",
       "      <th></th>\n",
       "      <th></th>\n",
       "      <th></th>\n",
       "      <th></th>\n",
       "      <th></th>\n",
       "    </tr>\n",
       "  </thead>\n",
       "  <tbody>\n",
       "    <tr>\n",
       "      <th>1</th>\n",
       "      <td>3.52</td>\n",
       "      <td>23</td>\n",
       "      <td>29</td>\n",
       "      <td>160</td>\n",
       "      <td>667</td>\n",
       "      <td>28.16</td>\n",
       "      <td>638.84</td>\n",
       "      <td>27.775652</td>\n",
       "    </tr>\n",
       "    <tr>\n",
       "      <th>2</th>\n",
       "      <td>3.57</td>\n",
       "      <td>17</td>\n",
       "      <td>30</td>\n",
       "      <td>220</td>\n",
       "      <td>510</td>\n",
       "      <td>39.27</td>\n",
       "      <td>470.73</td>\n",
       "      <td>27.690000</td>\n",
       "    </tr>\n",
       "  </tbody>\n",
       "</table>\n",
       "</div>"
      ],
      "text/plain": [
       "      gas_px  passengers  fare  distance  revenue  gas_cost  income  \\\n",
       "week                                                                  \n",
       "1       3.52          23    29       160      667     28.16  638.84   \n",
       "2       3.57          17    30       220      510     39.27  470.73   \n",
       "\n",
       "      ave_income  \n",
       "week              \n",
       "1      27.775652  \n",
       "2      27.690000  "
      ]
     },
     "execution_count": 96,
     "metadata": {},
     "output_type": "execute_result"
    }
   ],
   "source": [
    "# your code here\n",
    "import pandas as pd\n",
    "\n",
    "#setup variables into data frame\n",
    "data = pd.DataFrame({'week':[1,2],\n",
    "                    'gas_px':[3.52,3.57],\n",
    "                    'passengers':[23,17],\n",
    "                    'fare':[29,30],\n",
    "                    'distance':[160,220]})\n",
    "data = data.set_index('week')\n",
    "\n",
    "#get derived values\n",
    "data_derived = pd.DataFrame({'revenue':data['passengers'] * data['fare'],\n",
    "                            'gas_cost':data['distance']/20 * data['gas_px'],\n",
    "                            'income':data['passengers'] * data['fare'] - \\\n",
    "                             data['distance']/20 * data['gas_px']})\n",
    "\n",
    "#consolidate\n",
    "data = pd.concat([data,data_derived], axis = 1)\n",
    "print(\"1) Total income: \" + str(round(sum(data['income']),2)))    #To\n",
    "\n",
    "#compute for mean per passenger and consolidate\n",
    "data_derived = pd.DataFrame({'ave_income':data['income']/data['passengers']})\n",
    "data = pd.concat([data,data_derived],axis = 1)\n",
    "\n",
    "ai1 = data['ave_income'][1]\n",
    "ai2 = data['ave_income'][2]\n",
    "\n",
    "if ai1 == ai2:\n",
    "    str2 = \"The average income for the 2 week are the same\"\n",
    "elif ai1> ai2:\n",
    "    str2 = \"Week 1 has a higher average income at $\" + str(round(ai1,4)) +\" per passenger\"\n",
    "else:\n",
    "    str2 = \"Week 2 has a higher averageS income at $\" + str(round(ai2,4)) +\" per passenger\"\n",
    "\n",
    "print('2) ' + str2)\n",
    "data"
   ]
  },
  {
   "cell_type": "markdown",
   "metadata": {
    "colab_type": "text",
    "id": "0l4bUPHmR5Ko"
   },
   "source": [
    "### b) Mo' money...\n",
    "\n",
    "A cash drawer contains 160 bills, all 10s and 50s. The total value of the 10s and 50s is $1,760.\n",
    "\n",
    "How many of each type of bill are in the drawer? You can figure this out by trial and error (or by doing algebra with pencil and paper), but try to use loops and conditionals to check a plausible possibilities and stop when you find the correct one."
   ]
  },
  {
   "cell_type": "code",
   "execution_count": 97,
   "metadata": {
    "colab": {},
    "colab_type": "code",
    "id": "Q2Atz_kyR8_6"
   },
   "outputs": [
    {
     "name": "stdout",
     "output_type": "stream",
     "text": [
      "There are 156 10 bills and 4 50s\n"
     ]
    }
   ],
   "source": [
    "#let n10 be the number of 10s\n",
    "#160-n10 will be the number of 50s\n",
    "\n",
    "#test values of n10 from 0 to 160\n",
    "for n10 in range(161):\n",
    "    if 10*n10 + 50*(160-n10) == 1760:\n",
    "        break\n",
    "print('There are ' + str(n10) + ' 10 bills and ' + str(160-n10) + ' 50s')\n",
    "\n"
   ]
  },
  {
   "cell_type": "markdown",
   "metadata": {
    "colab_type": "text",
    "id": "UCFtX_q9aQlc"
   },
   "source": [
    "## Exercise 2 - Drawing a plot\n",
    "\n",
    "Use NumPy and Matplotlib to draw a scatterplot of uniform random `(x, y)` values all drawn from the `[0, 1]` interval. Helpful documentation:\n",
    "\n",
    "*   https://matplotlib.org/tutorials/index.html\n",
    "*   https://docs.scipy.org/doc/numpy/user/quickstart.html\n",
    "\n",
    "Stretch goal - draw more plots! You can refer to the [Matplotlib gallery](https://matplotlib.org/gallery.html) for inspiration, but don't just reproduce something - try to apply it to your own data.\n",
    "\n",
    "How to get data? There's *many* ways, but a good place to get started is with [sklearn.datasets](http://scikit-learn.org/stable/datasets/index.html):\n",
    "\n",
    "```\n",
    "from sklearn import datasets\n",
    "dir(datasets)\n",
    "```"
   ]
  },
  {
   "cell_type": "code",
   "execution_count": 98,
   "metadata": {
    "colab": {},
    "colab_type": "code",
    "id": "pNEb09gMaltL"
   },
   "outputs": [
    {
     "data": {
      "image/png": "[encoded data removed]",
      "text/plain": [
       "<Figure size 360x360 with 1 Axes>"
      ]
     },
     "metadata": {
      "needs_background": "light"
     },
     "output_type": "display_data"
    }
   ],
   "source": [
    "import matplotlib.pyplot as plt\n",
    "import numpy as np\n",
    "\n",
    "#generate random numbers\n",
    "num_items = 100\n",
    "np.random.seed(1)\n",
    "x1 = np.random.rand(num_items)\n",
    "y1 = np.random.rand(num_items)\n",
    "\n",
    "#create plot\n",
    "plt.figure(figsize=(5,5))\n",
    "plt.plot(x1,y1,'bo')\n",
    "plt.xlabel('x values')\n",
    "plt.ylabel('y values')\n",
    "plt.title('Random scatter plot')\n",
    "plt.grid(True)\n",
    "plt.show()"
   ]
  },
  {
   "cell_type": "code",
   "execution_count": 99,
   "metadata": {},
   "outputs": [
    {
     "data": {
      "image/png": "[encoded data removed]",
      "text/plain": [
       "<Figure size 720x720 with 1 Axes>"
      ]
     },
     "metadata": {
      "needs_background": "light"
     },
     "output_type": "display_data"
    }
   ],
   "source": [
    "from sklearn import datasets\n",
    "#import numpy as np\n",
    "import pandas as pd\n",
    "import matplotlib.pyplot as plt\n",
    "\n",
    "#prepare data\n",
    "dat = datasets.load_iris(True)\n",
    "item = dat[0]\n",
    "sorter = dat[1]\n",
    "dat = pd.DataFrame(item,columns = ['s_len','s_wid','p_len','p_wid'])\n",
    "dat_class = pd.DataFrame({'kind':sorter})\n",
    "dat_class\n",
    "dat_full = pd.concat([dat_class,dat], axis = 1)\n",
    "dat_full=dat_full.set_index('kind')\n",
    "\n",
    "\n",
    "#set_axis\n",
    "x_axis = 's_len'\n",
    "y_axis = 'p_len'\n",
    "\n",
    "#plot\n",
    "x0 = dat_full.loc['0',x_axis]\n",
    "y0 = dat_full.loc['0',y_axis]\n",
    "x1 = dat_full.loc['1',x_axis]\n",
    "y1 = dat_full.loc['1',y_axis]\n",
    "x2 = dat_full.loc['2',x_axis]\n",
    "y2 = dat_full.loc['2',y_axis]\n",
    "plt.figure(figsize=(10,10))\n",
    "plt.plot(x0,y0,'ro',x1,y1,'bo',x2,y2,'go')\n",
    "plt.xlabel(x_axis)\n",
    "plt.ylabel(y_axis)\n",
    "plt.title('Mapping of ' + y_axis + ' to ' + x_axis)\n",
    "plt.show()\n"
   ]
  },
  {
   "cell_type": "code",
   "execution_count": null,
   "metadata": {},
   "outputs": [],
   "source": []
  }
 ],
 "metadata": {
  "colab": {
   "collapsed_sections": [],
   "name": "LSDS Intro Assignment 1 - Getting Started with Python.ipynb",
   "provenance": [],
   "version": "0.3.2"
  },
  "kernelspec": {
   "display_name": "Python 3",
   "language": "python",
   "name": "python3"
  },
  "language_info": {
   "codemirror_mode": {
    "name": "ipython",
    "version": 3
   },
   "file_extension": ".py",
   "mimetype": "text/x-python",
   "name": "python",
   "nbconvert_exporter": "python",
   "pygments_lexer": "ipython3",
   "version": "3.7.3"
  }
 },
 "nbformat": 4,
 "nbformat_minor": 1
}
