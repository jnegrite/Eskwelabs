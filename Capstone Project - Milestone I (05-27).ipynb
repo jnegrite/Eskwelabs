{
 "cells": [
  {
   "cell_type": "markdown",
   "metadata": {},
   "source": [
    "<h1>Eskwelabs Manila Cohort I</h1>\n",
    "<h2>Capstone Project</h2>\n",
    "<h3>Milestone 1 (05/27)<h3>"
   ]
  },
  {
   "cell_type": "markdown",
   "metadata": {},
   "source": [
    "<h4>What is the question you hope to answer?</h4>\n",
    "<p>I hope to be able to determine if there are anomalies in the recent Philippine Midterm elections. The results have become questionable due to numerous occurences of failing vote counting machines (VCM). \n",
    "</p>"
   ]
  },
  {
   "cell_type": "markdown",
   "metadata": {},
   "source": [
    "<h4>What data are you planning to use to answer that question?</h4>\n",
    "<p>I'm planning to focus only on the distribution of votes for Senatorial candidates. This is available on some websites of news agencies.\n",
    "</p>"
   ]
  },
  {
   "cell_type": "markdown",
   "metadata": {},
   "source": [
    "<h4>What do you know about the data so far?</h4>\n",
    "<p>The data is broken down into votes per candidate per precint. I will be focusing on determining the distributions of votes per candidate on clustered precints and if that distribution is reasonable given the distribution for that area.\n",
    "</p>"
   ]
  },
  {
   "cell_type": "markdown",
   "metadata": {},
   "source": [
    "<h4>Why did you choose this topic?</h4>\n",
    "<p>Personally, I do not like the results of the elections and I am very wary of the current government. I would like to make sure that the Filipino people were not deprived of their right to determine who get to rule them.\n",
    "</p>"
   ]
  }
 ],
 "metadata": {
  "kernelspec": {
   "display_name": "Python 3",
   "language": "python",
   "name": "python3"
  },
  "language_info": {
   "codemirror_mode": {
    "name": "ipython",
    "version": 3
   },
   "file_extension": ".py",
   "mimetype": "text/x-python",
   "name": "python",
   "nbconvert_exporter": "python",
   "pygments_lexer": "ipython3",
   "version": "3.7.3"
  }
 },
 "nbformat": 4,
 "nbformat_minor": 2
}
