{
 "cells": [
  {
   "cell_type": "code",
   "execution_count": 1,
   "metadata": {},
   "outputs": [],
   "source": [
    "import pandas as pd\n",
    "import matplotlib.pyplot as plt\n",
    "import numpy as np\n",
    "import seaborn as sns"
   ]
  },
  {
   "cell_type": "code",
   "execution_count": 2,
   "metadata": {},
   "outputs": [],
   "source": [
    "import json"
   ]
  },
  {
   "cell_type": "code",
   "execution_count": null,
   "metadata": {},
   "outputs": [],
   "source": [
    "#data = pd.read_json('NewestDelhi.json')\n",
    "with open('NewestDelhi_3.json',encoding = 'utf8') as f:\n",
    "    data = json.load(f)\n",
    "    \n",
    "#for item in data:\n",
    "#dat = pd.DataFrame(data)"
   ]
  },
  {
   "cell_type": "code",
   "execution_count": 3,
   "metadata": {},
   "outputs": [],
   "source": [
    "new_delhi = pd.read_json('NewestDelhi.json')"
   ]
  },
  {
   "cell_type": "code",
   "execution_count": null,
   "metadata": {},
   "outputs": [],
   "source": [
    "new_delhi.head()"
   ]
  },
  {
   "cell_type": "code",
   "execution_count": 4,
   "metadata": {},
   "outputs": [],
   "source": [
    "new_delhi['Review'] = new_delhi['Review'].apply(lambda x : int(str.replace(str.replace(x,',',''),' reviews','')))"
   ]
  },
  {
   "cell_type": "code",
   "execution_count": null,
   "metadata": {},
   "outputs": [],
   "source": []
  },
  {
   "cell_type": "code",
   "execution_count": 15,
   "metadata": {},
   "outputs": [
    {
     "data": {
      "text/html": [
       "<div>\n",
       "<style scoped>\n",
       "    .dataframe tbody tr th:only-of-type {\n",
       "        vertical-align: middle;\n",
       "    }\n",
       "\n",
       "    .dataframe tbody tr th {\n",
       "        vertical-align: top;\n",
       "    }\n",
       "\n",
       "    .dataframe thead th {\n",
       "        text-align: right;\n",
       "    }\n",
       "</style>\n",
       "<table border=\"1\" class=\"dataframe\">\n",
       "  <thead>\n",
       "    <tr style=\"text-align: right;\">\n",
       "      <th></th>\n",
       "      <th>Amenities</th>\n",
       "      <th>Certificates</th>\n",
       "      <th>HType</th>\n",
       "      <th>Max_Price</th>\n",
       "      <th>Min_Price</th>\n",
       "      <th>Name</th>\n",
       "      <th>Ranking</th>\n",
       "      <th>Rating</th>\n",
       "      <th>Review</th>\n",
       "    </tr>\n",
       "  </thead>\n",
       "  <tbody>\n",
       "    <tr>\n",
       "      <th>0</th>\n",
       "      <td>[Room service, Restaurant, Free High Speed Int...</td>\n",
       "      <td>[Certificate of Excellence]</td>\n",
       "      <td>[Value, Family]</td>\n",
       "      <td>US$153</td>\n",
       "      <td>US$63</td>\n",
       "      <td>Red Fox Hotel, Delhi Airport</td>\n",
       "      <td>#37 of 980 hotels in New Delhi</td>\n",
       "      <td>4.5</td>\n",
       "      <td>2736</td>\n",
       "    </tr>\n",
       "    <tr>\n",
       "      <th>1</th>\n",
       "      <td>[Spa, Breakfast included, Banquet Room, Breakf...</td>\n",
       "      <td>[Certificate of Excellence]</td>\n",
       "      <td>[Business, Classic]</td>\n",
       "      <td>US$271</td>\n",
       "      <td>US$117</td>\n",
       "      <td>ITC Maurya, a Luxury Collection Hotel, New Delhi</td>\n",
       "      <td>#7 of 980 hotels in New Delhi</td>\n",
       "      <td>4.5</td>\n",
       "      <td>3922</td>\n",
       "    </tr>\n",
       "    <tr>\n",
       "      <th>2</th>\n",
       "      <td>[Free parking, Restaurant, Free High Speed Int...</td>\n",
       "      <td>[Certificate of Excellence]</td>\n",
       "      <td>[]</td>\n",
       "      <td>US$105</td>\n",
       "      <td>US$23</td>\n",
       "      <td>Taurus Sarovar Portico</td>\n",
       "      <td>#88 of 980 hotels in New Delhi</td>\n",
       "      <td>4.0</td>\n",
       "      <td>460</td>\n",
       "    </tr>\n",
       "    <tr>\n",
       "      <th>3</th>\n",
       "      <td>[Free High Speed Internet (WiFi), Laundry Serv...</td>\n",
       "      <td>[Certificate of Excellence]</td>\n",
       "      <td>[Modern, Budget]</td>\n",
       "      <td>US$40</td>\n",
       "      <td>US$13</td>\n",
       "      <td>goStops Delhi</td>\n",
       "      <td>#7 of 1,150 Specialty lodging in New Delhi</td>\n",
       "      <td>4.5</td>\n",
       "      <td>580</td>\n",
       "    </tr>\n",
       "    <tr>\n",
       "      <th>4</th>\n",
       "      <td>[Free parking, Fitness Center with Gym / Worko...</td>\n",
       "      <td>[Travelers' Choice 2019 Winner, Certificate of...</td>\n",
       "      <td>[Business, Great View]</td>\n",
       "      <td>US$362</td>\n",
       "      <td>US$197</td>\n",
       "      <td>The Leela Palace New Delhi</td>\n",
       "      <td>#3 of 980 hotels in New Delhi</td>\n",
       "      <td>5.0</td>\n",
       "      <td>3559</td>\n",
       "    </tr>\n",
       "  </tbody>\n",
       "</table>\n",
       "</div>"
      ],
      "text/plain": [
       "                                           Amenities  \\\n",
       "0  [Room service, Restaurant, Free High Speed Int...   \n",
       "1  [Spa, Breakfast included, Banquet Room, Breakf...   \n",
       "2  [Free parking, Restaurant, Free High Speed Int...   \n",
       "3  [Free High Speed Internet (WiFi), Laundry Serv...   \n",
       "4  [Free parking, Fitness Center with Gym / Worko...   \n",
       "\n",
       "                                        Certificates                   HType  \\\n",
       "0                        [Certificate of Excellence]         [Value, Family]   \n",
       "1                        [Certificate of Excellence]     [Business, Classic]   \n",
       "2                        [Certificate of Excellence]                      []   \n",
       "3                        [Certificate of Excellence]        [Modern, Budget]   \n",
       "4  [Travelers' Choice 2019 Winner, Certificate of...  [Business, Great View]   \n",
       "\n",
       "  Max_Price Min_Price                                              Name  \\\n",
       "0    US$153     US$63                      Red Fox Hotel, Delhi Airport   \n",
       "1    US$271    US$117  ITC Maurya, a Luxury Collection Hotel, New Delhi   \n",
       "2    US$105     US$23                            Taurus Sarovar Portico   \n",
       "3     US$40     US$13                                     goStops Delhi   \n",
       "4    US$362    US$197                        The Leela Palace New Delhi   \n",
       "\n",
       "                                      Ranking  Rating  Review  \n",
       "0              #37 of 980 hotels in New Delhi     4.5    2736  \n",
       "1               #7 of 980 hotels in New Delhi     4.5    3922  \n",
       "2              #88 of 980 hotels in New Delhi     4.0     460  \n",
       "3  #7 of 1,150 Specialty lodging in New Delhi     4.5     580  \n",
       "4               #3 of 980 hotels in New Delhi     5.0    3559  "
      ]
     },
     "execution_count": 15,
     "metadata": {},
     "output_type": "execute_result"
    }
   ],
   "source": [
    "new_delhi.head()"
   ]
  },
  {
   "cell_type": "code",
   "execution_count": 5,
   "metadata": {},
   "outputs": [],
   "source": [
    "iInd = 0\n",
    "lst = []\n",
    "for x in new_delhi['Amenities']:\n",
    "    for item in x:\n",
    "        lst.append([iInd,item])\n",
    "    iInd += 1"
   ]
  },
  {
   "cell_type": "code",
   "execution_count": 6,
   "metadata": {},
   "outputs": [],
   "source": [
    "t_amen = pd.DataFrame(lst)\n",
    "t_amen.columns = ['itemno','amenity']"
   ]
  },
  {
   "cell_type": "code",
   "execution_count": null,
   "metadata": {},
   "outputs": [],
   "source": [
    "t_amen.head(20)"
   ]
  },
  {
   "cell_type": "code",
   "execution_count": 20,
   "metadata": {},
   "outputs": [],
   "source": [
    "t_join = pd.merge(t_amen, new_delhi, how = 'left', left_on = 'itemno', right_index = True)"
   ]
  },
  {
   "cell_type": "code",
   "execution_count": 10,
   "metadata": {},
   "outputs": [],
   "source": [
    "t_amenity = t_join.groupby('amenity').agg({'Rating':'mean'}).sort_values(by = 'Rating').tail(10)"
   ]
  },
  {
   "cell_type": "code",
   "execution_count": 68,
   "metadata": {},
   "outputs": [
    {
     "data": {
      "image/png": "[encoded data removed]",
      "text/plain": [
       "<Figure size 864x576 with 1 Axes>"
      ]
     },
     "metadata": {
      "needs_background": "light"
     },
     "output_type": "display_data"
    }
   ],
   "source": [
    "fig = t_amenity.plot.barh(color='blue',figsize=(12,8),legend=False,alpha=.6)\n",
    "\n",
    "plt.xlabel('Average Rating for Hotels with Amenities',fontsize = 20,family='sans-serif')\n",
    "plt.ylabel('Amenities',fontsize = 20,family='sans-serif')\n",
    "plt.title('New Delhi amenities with the highest average rating',fontsize = 20,family='sans-serif')\n",
    "plt.show()"
   ]
  },
  {
   "cell_type": "code",
   "execution_count": 69,
   "metadata": {},
   "outputs": [
    {
     "data": {
      "image/png": "[encoded data removed]",
      "text/plain": [
       "<Figure size 864x576 with 1 Axes>"
      ]
     },
     "metadata": {
      "needs_background": "light"
     },
     "output_type": "display_data"
    }
   ],
   "source": [
    "t_amenity2 = t_join.groupby('amenity').agg({'Rating':'mean'}).sort_values(by = 'Rating').head(10)\n",
    "fig = t_amenity2.plot.barh(color='blue',figsize=(12,8),legend=False,alpha=.6)\n",
    "\n",
    "plt.xlabel('Average Rating for Hotels with Amenities',fontsize = 20,family='sans-serif')\n",
    "plt.ylabel('Amenities',fontsize = 20,family='sans-serif')\n",
    "plt.title('New Delhi amenities with the lowest average rating',fontsize = 20,family='sans-serif')\n",
    "plt.show()"
   ]
  },
  {
   "cell_type": "code",
   "execution_count": 16,
   "metadata": {},
   "outputs": [],
   "source": [
    "iInd = 0\n",
    "lst2 = []\n",
    "for x in new_delhi['HType']:\n",
    "    for item in x:\n",
    "        lst.append([iInd,item])\n",
    "    iInd += 1"
   ]
  },
  {
   "cell_type": "code",
   "execution_count": 18,
   "metadata": {},
   "outputs": [],
   "source": [
    "t_htype = pd.DataFrame(lst)\n",
    "t_htype.columns = ['itemno','hotel_type']"
   ]
  },
  {
   "cell_type": "code",
   "execution_count": 21,
   "metadata": {},
   "outputs": [],
   "source": [
    "t_join2 = pd.merge(t_htype, new_delhi, how = 'left', left_on = 'itemno', right_index = True)"
   ]
  },
  {
   "cell_type": "code",
   "execution_count": 77,
   "metadata": {},
   "outputs": [],
   "source": [
    "t_type = t_join2.groupby('hotel_type').agg({'Rating':'mean'}).sort_values(by = 'Rating').tail(10)"
   ]
  },
  {
   "cell_type": "code",
   "execution_count": 78,
   "metadata": {},
   "outputs": [
    {
     "data": {
      "image/png": "[encoded data removed]",
      "text/plain": [
       "<Figure size 864x576 with 1 Axes>"
      ]
     },
     "metadata": {
      "needs_background": "light"
     },
     "output_type": "display_data"
    }
   ],
   "source": [
    "fig = t_type.plot.barh(color='blue',figsize=(12,8),legend=False,alpha=.6)\n",
    "\n",
    "plt.xlabel('Average Rating per Hotel Type',fontsize = 20,family='sans-serif')\n",
    "plt.ylabel('Hotel Type',fontsize = 20,family='sans-serif')\n",
    "plt.title('New Delhi Hotel Types with the highest average rating',fontsize = 20,family='sans-serif')\n",
    "plt.show()"
   ]
  },
  {
   "cell_type": "code",
   "execution_count": 75,
   "metadata": {},
   "outputs": [
    {
     "data": {
      "image/png": "[encoded data removed]",
      "text/plain": [
       "<Figure size 864x576 with 1 Axes>"
      ]
     },
     "metadata": {
      "needs_background": "light"
     },
     "output_type": "display_data"
    }
   ],
   "source": [
    "t_type = t_join2.groupby('hotel_type').agg({'Rating':'mean'}).sort_values(by = 'Rating').head(10)\n",
    "\n",
    "fig = t_type.plot.barh(color='blue',figsize=(12,8),legend=False,alpha=.6)\n",
    "\n",
    "plt.xlabel('Average Rating per Hotel Type',size='x-large',family='sans-serif')\n",
    "plt.ylabel('Hotel Type',size='x-large',family='sans-serif')\n",
    "plt.title('New Delhi Hotel Types with the lowest average rating',size='x-large',family='sans-serif')\n",
    "plt.show()"
   ]
  },
  {
   "cell_type": "code",
   "execution_count": 33,
   "metadata": {},
   "outputs": [
    {
     "data": {
      "text/html": [
       "<div>\n",
       "<style scoped>\n",
       "    .dataframe tbody tr th:only-of-type {\n",
       "        vertical-align: middle;\n",
       "    }\n",
       "\n",
       "    .dataframe tbody tr th {\n",
       "        vertical-align: top;\n",
       "    }\n",
       "\n",
       "    .dataframe thead th {\n",
       "        text-align: right;\n",
       "    }\n",
       "</style>\n",
       "<table border=\"1\" class=\"dataframe\">\n",
       "  <thead>\n",
       "    <tr style=\"text-align: right;\">\n",
       "      <th></th>\n",
       "      <th>Rating</th>\n",
       "    </tr>\n",
       "    <tr>\n",
       "      <th>hotel_type</th>\n",
       "      <th></th>\n",
       "    </tr>\n",
       "  </thead>\n",
       "  <tbody>\n",
       "    <tr>\n",
       "      <th>Tennis Court</th>\n",
       "      <td>3.750000</td>\n",
       "    </tr>\n",
       "    <tr>\n",
       "      <th>Family Resort</th>\n",
       "      <td>3.750000</td>\n",
       "    </tr>\n",
       "    <tr>\n",
       "      <th>Ski In/Ski Out</th>\n",
       "      <td>4.000000</td>\n",
       "    </tr>\n",
       "    <tr>\n",
       "      <th>Casino and Gambling</th>\n",
       "      <td>4.000000</td>\n",
       "    </tr>\n",
       "    <tr>\n",
       "      <th>Budget</th>\n",
       "      <td>4.018519</td>\n",
       "    </tr>\n",
       "    <tr>\n",
       "      <th>Centrally Located</th>\n",
       "      <td>4.031250</td>\n",
       "    </tr>\n",
       "    <tr>\n",
       "      <th>Mid-range</th>\n",
       "      <td>4.048387</td>\n",
       "    </tr>\n",
       "    <tr>\n",
       "      <th>Shuttle Bus Service</th>\n",
       "      <td>4.052239</td>\n",
       "    </tr>\n",
       "    <tr>\n",
       "      <th>Self-Serve Laundry</th>\n",
       "      <td>4.067308</td>\n",
       "    </tr>\n",
       "    <tr>\n",
       "      <th>Quiet</th>\n",
       "      <td>4.090909</td>\n",
       "    </tr>\n",
       "    <tr>\n",
       "      <th>Business Center with Internet Access</th>\n",
       "      <td>4.128959</td>\n",
       "    </tr>\n",
       "    <tr>\n",
       "      <th>Pets Allowed ( Dog / Pet Friendly )</th>\n",
       "      <td>4.140625</td>\n",
       "    </tr>\n",
       "    <tr>\n",
       "      <th>Meeting rooms</th>\n",
       "      <td>4.141204</td>\n",
       "    </tr>\n",
       "    <tr>\n",
       "      <th>Restaurant</th>\n",
       "      <td>4.144970</td>\n",
       "    </tr>\n",
       "    <tr>\n",
       "      <th>Room service</th>\n",
       "      <td>4.145885</td>\n",
       "    </tr>\n",
       "    <tr>\n",
       "      <th>Concierge</th>\n",
       "      <td>4.146758</td>\n",
       "    </tr>\n",
       "    <tr>\n",
       "      <th>Non-smoking hotel</th>\n",
       "      <td>4.152655</td>\n",
       "    </tr>\n",
       "    <tr>\n",
       "      <th>Dry Cleaning</th>\n",
       "      <td>4.156891</td>\n",
       "    </tr>\n",
       "    <tr>\n",
       "      <th>Laundry Service</th>\n",
       "      <td>4.169431</td>\n",
       "    </tr>\n",
       "    <tr>\n",
       "      <th>Suites</th>\n",
       "      <td>4.171233</td>\n",
       "    </tr>\n",
       "    <tr>\n",
       "      <th>Family</th>\n",
       "      <td>4.173913</td>\n",
       "    </tr>\n",
       "    <tr>\n",
       "      <th>Free High Speed Internet (WiFi)</th>\n",
       "      <td>4.179104</td>\n",
       "    </tr>\n",
       "    <tr>\n",
       "      <th>Conference Facilities</th>\n",
       "      <td>4.183140</td>\n",
       "    </tr>\n",
       "    <tr>\n",
       "      <th>Air conditioning</th>\n",
       "      <td>4.186073</td>\n",
       "    </tr>\n",
       "    <tr>\n",
       "      <th>Free parking</th>\n",
       "      <td>4.190252</td>\n",
       "    </tr>\n",
       "    <tr>\n",
       "      <th>Airport transportation</th>\n",
       "      <td>4.196629</td>\n",
       "    </tr>\n",
       "    <tr>\n",
       "      <th>Banquet Room</th>\n",
       "      <td>4.199346</td>\n",
       "    </tr>\n",
       "    <tr>\n",
       "      <th>Multilingual Staff</th>\n",
       "      <td>4.200450</td>\n",
       "    </tr>\n",
       "    <tr>\n",
       "      <th>Refrigerator in room</th>\n",
       "      <td>4.201183</td>\n",
       "    </tr>\n",
       "    <tr>\n",
       "      <th>Non-smoking rooms</th>\n",
       "      <td>4.203364</td>\n",
       "    </tr>\n",
       "    <tr>\n",
       "      <th>...</th>\n",
       "      <td>...</td>\n",
       "    </tr>\n",
       "    <tr>\n",
       "      <th>Children Activities (Kid / Family Friendly)</th>\n",
       "      <td>4.284314</td>\n",
       "    </tr>\n",
       "    <tr>\n",
       "      <th>Adult pool</th>\n",
       "      <td>4.285714</td>\n",
       "    </tr>\n",
       "    <tr>\n",
       "      <th>Pool</th>\n",
       "      <td>4.315000</td>\n",
       "    </tr>\n",
       "    <tr>\n",
       "      <th>Quaint</th>\n",
       "      <td>4.315789</td>\n",
       "    </tr>\n",
       "    <tr>\n",
       "      <th>Babysitting</th>\n",
       "      <td>4.331461</td>\n",
       "    </tr>\n",
       "    <tr>\n",
       "      <th>Paid Internet</th>\n",
       "      <td>4.333333</td>\n",
       "    </tr>\n",
       "    <tr>\n",
       "      <th>Boutique</th>\n",
       "      <td>4.333333</td>\n",
       "    </tr>\n",
       "    <tr>\n",
       "      <th>Free Internet</th>\n",
       "      <td>4.338235</td>\n",
       "    </tr>\n",
       "    <tr>\n",
       "      <th>Business</th>\n",
       "      <td>4.340580</td>\n",
       "    </tr>\n",
       "    <tr>\n",
       "      <th>Paid Wifi</th>\n",
       "      <td>4.370000</td>\n",
       "    </tr>\n",
       "    <tr>\n",
       "      <th>Spa</th>\n",
       "      <td>4.370000</td>\n",
       "    </tr>\n",
       "    <tr>\n",
       "      <th>Outdoor pool</th>\n",
       "      <td>4.372093</td>\n",
       "    </tr>\n",
       "    <tr>\n",
       "      <th>Accessible rooms</th>\n",
       "      <td>4.388889</td>\n",
       "    </tr>\n",
       "    <tr>\n",
       "      <th>Park View</th>\n",
       "      <td>4.388889</td>\n",
       "    </tr>\n",
       "    <tr>\n",
       "      <th>Microwave</th>\n",
       "      <td>4.400000</td>\n",
       "    </tr>\n",
       "    <tr>\n",
       "      <th>Trendy</th>\n",
       "      <td>4.406250</td>\n",
       "    </tr>\n",
       "    <tr>\n",
       "      <th>Romantic</th>\n",
       "      <td>4.428571</td>\n",
       "    </tr>\n",
       "    <tr>\n",
       "      <th>Value</th>\n",
       "      <td>4.437500</td>\n",
       "    </tr>\n",
       "    <tr>\n",
       "      <th>Golf Course</th>\n",
       "      <td>4.437500</td>\n",
       "    </tr>\n",
       "    <tr>\n",
       "      <th>Hot Tub</th>\n",
       "      <td>4.462500</td>\n",
       "    </tr>\n",
       "    <tr>\n",
       "      <th>Art Deco Style</th>\n",
       "      <td>4.500000</td>\n",
       "    </tr>\n",
       "    <tr>\n",
       "      <th>English, Hindi</th>\n",
       "      <td>4.500000</td>\n",
       "    </tr>\n",
       "    <tr>\n",
       "      <th>Heated pool</th>\n",
       "      <td>4.500000</td>\n",
       "    </tr>\n",
       "    <tr>\n",
       "      <th>Historic Hotel</th>\n",
       "      <td>4.500000</td>\n",
       "    </tr>\n",
       "    <tr>\n",
       "      <th>Luxury</th>\n",
       "      <td>4.500000</td>\n",
       "    </tr>\n",
       "    <tr>\n",
       "      <th>Great View</th>\n",
       "      <td>4.500000</td>\n",
       "    </tr>\n",
       "    <tr>\n",
       "      <th>Indoor pool</th>\n",
       "      <td>4.500000</td>\n",
       "    </tr>\n",
       "    <tr>\n",
       "      <th>Residential Neighborhood</th>\n",
       "      <td>4.516667</td>\n",
       "    </tr>\n",
       "    <tr>\n",
       "      <th>Sauna</th>\n",
       "      <td>4.528571</td>\n",
       "    </tr>\n",
       "    <tr>\n",
       "      <th>Charming</th>\n",
       "      <td>4.568966</td>\n",
       "    </tr>\n",
       "  </tbody>\n",
       "</table>\n",
       "<p>72 rows × 1 columns</p>\n",
       "</div>"
      ],
      "text/plain": [
       "                                               Rating\n",
       "hotel_type                                           \n",
       "Tennis Court                                 3.750000\n",
       "Family Resort                                3.750000\n",
       "Ski In/Ski Out                               4.000000\n",
       "Casino and Gambling                          4.000000\n",
       "Budget                                       4.018519\n",
       "Centrally Located                            4.031250\n",
       "Mid-range                                    4.048387\n",
       "Shuttle Bus Service                          4.052239\n",
       "Self-Serve Laundry                           4.067308\n",
       "Quiet                                        4.090909\n",
       "Business Center with Internet Access         4.128959\n",
       "Pets Allowed ( Dog / Pet Friendly )          4.140625\n",
       "Meeting rooms                                4.141204\n",
       "Restaurant                                   4.144970\n",
       "Room service                                 4.145885\n",
       "Concierge                                    4.146758\n",
       "Non-smoking hotel                            4.152655\n",
       "Dry Cleaning                                 4.156891\n",
       "Laundry Service                              4.169431\n",
       "Suites                                       4.171233\n",
       "Family                                       4.173913\n",
       "Free High Speed Internet (WiFi)              4.179104\n",
       "Conference Facilities                        4.183140\n",
       "Air conditioning                             4.186073\n",
       "Free parking                                 4.190252\n",
       "Airport transportation                       4.196629\n",
       "Banquet Room                                 4.199346\n",
       "Multilingual Staff                           4.200450\n",
       "Refrigerator in room                         4.201183\n",
       "Non-smoking rooms                            4.203364\n",
       "...                                               ...\n",
       "Children Activities (Kid / Family Friendly)  4.284314\n",
       "Adult pool                                   4.285714\n",
       "Pool                                         4.315000\n",
       "Quaint                                       4.315789\n",
       "Babysitting                                  4.331461\n",
       "Paid Internet                                4.333333\n",
       "Boutique                                     4.333333\n",
       "Free Internet                                4.338235\n",
       "Business                                     4.340580\n",
       "Paid Wifi                                    4.370000\n",
       "Spa                                          4.370000\n",
       "Outdoor pool                                 4.372093\n",
       "Accessible rooms                             4.388889\n",
       "Park View                                    4.388889\n",
       "Microwave                                    4.400000\n",
       "Trendy                                       4.406250\n",
       "Romantic                                     4.428571\n",
       "Value                                        4.437500\n",
       "Golf Course                                  4.437500\n",
       "Hot Tub                                      4.462500\n",
       "Art Deco Style                               4.500000\n",
       "English, Hindi                               4.500000\n",
       "Heated pool                                  4.500000\n",
       "Historic Hotel                               4.500000\n",
       "Luxury                                       4.500000\n",
       "Great View                                   4.500000\n",
       "Indoor pool                                  4.500000\n",
       "Residential Neighborhood                     4.516667\n",
       "Sauna                                        4.528571\n",
       "Charming                                     4.568966\n",
       "\n",
       "[72 rows x 1 columns]"
      ]
     },
     "execution_count": 33,
     "metadata": {},
     "output_type": "execute_result"
    }
   ],
   "source": []
  },
  {
   "cell_type": "code",
   "execution_count": 44,
   "metadata": {},
   "outputs": [],
   "source": [
    "new_delhi['cnt_amen'] = new_delhi['Amenities'].apply(lambda x: len(x))"
   ]
  },
  {
   "cell_type": "code",
   "execution_count": 45,
   "metadata": {},
   "outputs": [
    {
     "data": {
      "text/html": [
       "<div>\n",
       "<style scoped>\n",
       "    .dataframe tbody tr th:only-of-type {\n",
       "        vertical-align: middle;\n",
       "    }\n",
       "\n",
       "    .dataframe tbody tr th {\n",
       "        vertical-align: top;\n",
       "    }\n",
       "\n",
       "    .dataframe thead th {\n",
       "        text-align: right;\n",
       "    }\n",
       "</style>\n",
       "<table border=\"1\" class=\"dataframe\">\n",
       "  <thead>\n",
       "    <tr style=\"text-align: right;\">\n",
       "      <th></th>\n",
       "      <th>Amenities</th>\n",
       "      <th>Certificates</th>\n",
       "      <th>HType</th>\n",
       "      <th>Max_Price</th>\n",
       "      <th>Min_Price</th>\n",
       "      <th>Name</th>\n",
       "      <th>Ranking</th>\n",
       "      <th>Rating</th>\n",
       "      <th>Review</th>\n",
       "      <th>cnt_amen</th>\n",
       "    </tr>\n",
       "  </thead>\n",
       "  <tbody>\n",
       "    <tr>\n",
       "      <th>0</th>\n",
       "      <td>[Room service, Restaurant, Free High Speed Int...</td>\n",
       "      <td>[Certificate of Excellence]</td>\n",
       "      <td>[Value, Family]</td>\n",
       "      <td>US$153</td>\n",
       "      <td>US$63</td>\n",
       "      <td>Red Fox Hotel, Delhi Airport</td>\n",
       "      <td>#37 of 980 hotels in New Delhi</td>\n",
       "      <td>4.5</td>\n",
       "      <td>2736</td>\n",
       "      <td>24</td>\n",
       "    </tr>\n",
       "    <tr>\n",
       "      <th>1</th>\n",
       "      <td>[Spa, Breakfast included, Banquet Room, Breakf...</td>\n",
       "      <td>[Certificate of Excellence]</td>\n",
       "      <td>[Business, Classic]</td>\n",
       "      <td>US$271</td>\n",
       "      <td>US$117</td>\n",
       "      <td>ITC Maurya, a Luxury Collection Hotel, New Delhi</td>\n",
       "      <td>#7 of 980 hotels in New Delhi</td>\n",
       "      <td>4.5</td>\n",
       "      <td>3922</td>\n",
       "      <td>15</td>\n",
       "    </tr>\n",
       "    <tr>\n",
       "      <th>2</th>\n",
       "      <td>[Free parking, Restaurant, Free High Speed Int...</td>\n",
       "      <td>[Certificate of Excellence]</td>\n",
       "      <td>[]</td>\n",
       "      <td>US$105</td>\n",
       "      <td>US$23</td>\n",
       "      <td>Taurus Sarovar Portico</td>\n",
       "      <td>#88 of 980 hotels in New Delhi</td>\n",
       "      <td>4.0</td>\n",
       "      <td>460</td>\n",
       "      <td>22</td>\n",
       "    </tr>\n",
       "    <tr>\n",
       "      <th>3</th>\n",
       "      <td>[Free High Speed Internet (WiFi), Laundry Serv...</td>\n",
       "      <td>[Certificate of Excellence]</td>\n",
       "      <td>[Modern, Budget]</td>\n",
       "      <td>US$40</td>\n",
       "      <td>US$13</td>\n",
       "      <td>goStops Delhi</td>\n",
       "      <td>#7 of 1,150 Specialty lodging in New Delhi</td>\n",
       "      <td>4.5</td>\n",
       "      <td>580</td>\n",
       "      <td>6</td>\n",
       "    </tr>\n",
       "    <tr>\n",
       "      <th>4</th>\n",
       "      <td>[Free parking, Fitness Center with Gym / Worko...</td>\n",
       "      <td>[Travelers' Choice 2019 Winner, Certificate of...</td>\n",
       "      <td>[Business, Great View]</td>\n",
       "      <td>US$362</td>\n",
       "      <td>US$197</td>\n",
       "      <td>The Leela Palace New Delhi</td>\n",
       "      <td>#3 of 980 hotels in New Delhi</td>\n",
       "      <td>5.0</td>\n",
       "      <td>3559</td>\n",
       "      <td>35</td>\n",
       "    </tr>\n",
       "  </tbody>\n",
       "</table>\n",
       "</div>"
      ],
      "text/plain": [
       "                                           Amenities  \\\n",
       "0  [Room service, Restaurant, Free High Speed Int...   \n",
       "1  [Spa, Breakfast included, Banquet Room, Breakf...   \n",
       "2  [Free parking, Restaurant, Free High Speed Int...   \n",
       "3  [Free High Speed Internet (WiFi), Laundry Serv...   \n",
       "4  [Free parking, Fitness Center with Gym / Worko...   \n",
       "\n",
       "                                        Certificates                   HType  \\\n",
       "0                        [Certificate of Excellence]         [Value, Family]   \n",
       "1                        [Certificate of Excellence]     [Business, Classic]   \n",
       "2                        [Certificate of Excellence]                      []   \n",
       "3                        [Certificate of Excellence]        [Modern, Budget]   \n",
       "4  [Travelers' Choice 2019 Winner, Certificate of...  [Business, Great View]   \n",
       "\n",
       "  Max_Price Min_Price                                              Name  \\\n",
       "0    US$153     US$63                      Red Fox Hotel, Delhi Airport   \n",
       "1    US$271    US$117  ITC Maurya, a Luxury Collection Hotel, New Delhi   \n",
       "2    US$105     US$23                            Taurus Sarovar Portico   \n",
       "3     US$40     US$13                                     goStops Delhi   \n",
       "4    US$362    US$197                        The Leela Palace New Delhi   \n",
       "\n",
       "                                      Ranking  Rating  Review  cnt_amen  \n",
       "0              #37 of 980 hotels in New Delhi     4.5    2736        24  \n",
       "1               #7 of 980 hotels in New Delhi     4.5    3922        15  \n",
       "2              #88 of 980 hotels in New Delhi     4.0     460        22  \n",
       "3  #7 of 1,150 Specialty lodging in New Delhi     4.5     580         6  \n",
       "4               #3 of 980 hotels in New Delhi     5.0    3559        35  "
      ]
     },
     "execution_count": 45,
     "metadata": {},
     "output_type": "execute_result"
    }
   ],
   "source": [
    "new_delhi.head()"
   ]
  },
  {
   "cell_type": "code",
   "execution_count": 61,
   "metadata": {},
   "outputs": [
    {
     "data": {
      "text/plain": [
       "Text(0.5, 1.0, 'Distribution of Ratings by number of Amenities')"
      ]
     },
     "execution_count": 61,
     "metadata": {},
     "output_type": "execute_result"
    },
    {
     "data": {
      "image/png": "[encoded data removed]",
      "text/plain": [
       "<Figure size 360x360 with 1 Axes>"
      ]
     },
     "metadata": {
      "needs_background": "light"
     },
     "output_type": "display_data"
    }
   ],
   "source": [
    "sns.lmplot('cnt_amen','Rating',new_delhi)\n",
    "plt.xlabel('Count of Amenities',fontsize=20,family='sans-serif')\n",
    "plt.ylabel('Ratings',fontsize=20,family='sans-serif')\n",
    "plt.title('Distribution of Ratings by number of Amenities',fontsize=20,family='sans-serif')"
   ]
  },
  {
   "cell_type": "code",
   "execution_count": 74,
   "metadata": {},
   "outputs": [
    {
     "data": {
      "text/plain": [
       "[Text(0, 0.5, 'PDF'),\n",
       " Text(0.5, 0, 'Number of Amenities'),\n",
       " Text(0.5, 1.0, 'Distribution of Number of  Amenites')]"
      ]
     },
     "execution_count": 74,
     "metadata": {},
     "output_type": "execute_result"
    },
    {
     "data": {
      "image/png": "[encoded data removed]",
      "text/plain": [
       "<Figure size 432x288 with 1 Axes>"
      ]
     },
     "metadata": {
      "needs_background": "light"
     },
     "output_type": "display_data"
    }
   ],
   "source": [
    "ax = sns.distplot(new_delhi['cnt_amen'])\n",
    "ax.set(xlabel = 'Number of Amenities', ylabel = 'PDF', title = 'Distribution of Number of  Amenites')"
   ]
  },
  {
   "cell_type": "code",
   "execution_count": null,
   "metadata": {},
   "outputs": [],
   "source": []
  }
 ],
 "metadata": {
  "kernelspec": {
   "display_name": "Python 3",
   "language": "python",
   "name": "python3"
  },
  "language_info": {
   "codemirror_mode": {
    "name": "ipython",
    "version": 3
   },
   "file_extension": ".py",
   "mimetype": "text/x-python",
   "name": "python",
   "nbconvert_exporter": "python",
   "pygments_lexer": "ipython3",
   "version": "3.7.3"
  }
 },
 "nbformat": 4,
 "nbformat_minor": 2
}
